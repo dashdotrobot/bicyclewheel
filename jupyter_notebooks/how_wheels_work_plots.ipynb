{
 "cells": [
  {
   "cell_type": "code",
   "execution_count": null,
   "metadata": {},
   "outputs": [],
   "source": [
    "import numpy as np\n",
    "import matplotlib.pyplot as plt\n",
    "from bikewheelcalc import BicycleWheel, Rim, Hub, ModeMatrix\n",
    "\n",
    "%matplotlib inline"
   ]
  },
  {
   "cell_type": "code",
   "execution_count": null,
   "metadata": {},
   "outputs": [],
   "source": [
    "radius = 0.305\n",
    "mass = 0.540\n",
    "\n",
    "\n",
    "w = BicycleWheel()\n",
    "w.hub = Hub(diameter=0.050, width=0.050)\n",
    "w.rim = Rim(radius=radius, area=mass / (2*np.pi*radius*2700.),\n",
    "            I_rad=110./69e9, I_lat=220./69e9, J_tor=25./26e9, I_warp=0.0,\n",
    "            young_mod=69e9, shear_mod=26e9)\n",
    "\n",
    "w.lace_cross(n_spokes=36, n_cross=3, diameter=2.0e-3, young_mod=210e9, offset=0.);"
   ]
  },
  {
   "cell_type": "code",
   "execution_count": null,
   "metadata": {},
   "outputs": [],
   "source": [
    "def calc_dT(mm, d):\n",
    "    return np.array([-s.EA/s.length/9.81 *\n",
    "                     np.dot(s.n, mm.B_theta(s.rim_pt[1], comps=[0, 1, 2]).dot(dm))\n",
    "                     for s in mm.wheel.spokes])\n",
    "\n",
    "def plot_dT(dT, ax):\n",
    "    ax.bar([s.rim_pt[1] - np.pi/2 for s in w.spokes[::2]],\n",
    "            dT[::2], width=0.08, bottom=100.0, color='C0')\n",
    "    ax.bar([s.rim_pt[1] - np.pi/2 for s in w.spokes[1::2]],\n",
    "            dT[1::2], width=0.08, bottom=100.0, color='C1')\n",
    "\n",
    "\n",
    "mm = ModeMatrix(w, N=36)\n",
    "\n",
    "K = (mm.K_rim(tension=True, r0=True) +\n",
    "     mm.K_spk(tension=True, smeared_spokes=False))\n",
    "\n",
    "fig = plt.figure(figsize=(8, 3))\n",
    "\n",
    "\n",
    "# Radial force\n",
    "F_ext = mm.F_ext(f_theta=0., f=[0., 60*9.81, 0., 0.])\n",
    "dm = np.linalg.solve(K, F_ext)\n",
    "dT = calc_dT(mm, dm)\n",
    "print(np.max(dT))\n",
    "\n",
    "ax1 = plt.subplot(131, projection='polar')\n",
    "plot_dT(dT, ax1)\n",
    "\n",
    "\n",
    "# Lateral force\n",
    "F_ext = mm.F_ext(f_theta=0., f=[20*9.81, 0., 0., 0.])\n",
    "dm = np.linalg.solve(K, F_ext)\n",
    "dT = calc_dT(mm, dm)\n",
    "print(np.max(dT))\n",
    "\n",
    "ax2 = plt.subplot(132, projection='polar')\n",
    "plot_dT(dT, ax2)\n",
    "\n",
    "\n",
    "# Tangential force\n",
    "F_ext = mm.F_ext(f_theta=0., f=[0., 0., 20*9.81, 0.])\n",
    "dm = np.linalg.solve(K, F_ext)\n",
    "dT = calc_dT(mm, dm)\n",
    "print(np.max(dT))\n",
    "\n",
    "ax3 = plt.subplot(133, projection='polar')\n",
    "plot_dT(dT, ax3)\n",
    "\n",
    "\n",
    "for a in [ax1, ax2, ax3]:\n",
    "    \n",
    "    a.plot(np.linspace(0., 2*np.pi, 200), 100.*np.ones(200), 'k', linewidth=0.5)\n",
    "    a.set_ylim([0., 135.])\n",
    "    a.set_xticks([])\n",
    "    a.set_yticks([])\n",
    "    a.spines['polar'].set_visible(False)\n",
    "    \n",
    "plt.tight_layout()"
   ]
  },
  {
   "cell_type": "code",
   "execution_count": null,
   "metadata": {},
   "outputs": [],
   "source": []
  }
 ],
 "metadata": {
  "kernelspec": {
   "display_name": "Python 3",
   "language": "python",
   "name": "python3"
  },
  "language_info": {
   "codemirror_mode": {
    "name": "ipython",
    "version": 3
   },
   "file_extension": ".py",
   "mimetype": "text/x-python",
   "name": "python",
   "nbconvert_exporter": "python",
   "pygments_lexer": "ipython3",
   "version": "3.7.1"
  }
 },
 "nbformat": 4,
 "nbformat_minor": 2
}
